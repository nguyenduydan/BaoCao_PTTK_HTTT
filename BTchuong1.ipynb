{
 "cells": [
  {
   "cell_type": "markdown",
   "metadata": {},
   "source": [
    "## **Câu 1: Indoor** ##\n",
    "- Triển khai một chương trình bằng Python để nhắc người dùng nhập dữ liệu và sau đó xuất dữ liệu đầu vào đó bằng chữ thường. Dấu câu và khoảng trắng phải được xuất ra không thay đổi. Bạn có thể, nhưng không bắt buộc, nhắc người dùng một cách rõ ràng, chẳng hạn như bằng cách chuyển một **str** đối số của riêng bạn làm đối số cho **input**.\n",
    "- Để xuất chuỗi chữ cái thường thì ta dùng hàm `lower()` còn in hoa thì là `upper()`\n"
   ]
  },
  {
   "cell_type": "code",
   "execution_count": 5,
   "metadata": {},
   "outputs": [
    {
     "name": "stdout",
     "output_type": "stream",
     "text": [
      "hello duy    dan\n"
     ]
    }
   ],
   "source": [
    "def main():\n",
    "    s = input(\"Xin mời nhập dữ liệu: \")\n",
    "    while(s==0):\n",
    "        s = input(\"Xin nhập dữ liệu: \")\n",
    "    print(s.lower())\n",
    "main()"
   ]
  },
  {
   "cell_type": "markdown",
   "metadata": {},
   "source": [
    "## **Câu 2: PlayBack** ##\n",
    "\n",
    "- Hãy triển khai một chương trình bằng Python để nhắc người dùng nhập thông tin đầu vào rồi xuất ra cùng thông tin đầu vào đó, thay thế từng khoảng trắng bằng ...(tức là ba dấu chấm)."
   ]
  },
  {
   "cell_type": "code",
   "execution_count": 8,
   "metadata": {},
   "outputs": [
    {
     "name": "stdout",
     "output_type": "stream",
     "text": [
      "hello...world"
     ]
    }
   ],
   "source": [
    "def main():\n",
    "    s = input(\"Xin mời nhập dữ liệu: \")\n",
    "    while(s==0):\n",
    "        s = input(\"Xin nhập dữ liệu: \")\n",
    "    for i in s:\n",
    "        if(i != \" \"):\n",
    "            print(i, end=\"\")\n",
    "        else:\n",
    "            print(\"...\", end=\"\")\n",
    "main()"
   ]
  },
  {
   "cell_type": "markdown",
   "metadata": {},
   "source": [
    " ## **Câu 3: Making faces** ##\n",
    " - Hãy triển khai một hàm có tên `convert` chấp nhận một str làm đầu vào và trả về cùng một đầu vào đó với bất kỳ xâu nào :) được chuyển đổi thành (còn được gọi là khuôn mặt hơi mỉm cười ) và bất kỳ xâu nào :( được chuyển đổi thành (còn được gọi là khuôn mặt hơi cau mày ). Tất cả các văn bản khác sẽ được trả lại không thay đổi."
   ]
  },
  {
   "cell_type": "code",
   "execution_count": 16,
   "metadata": {},
   "outputs": [
    {
     "name": "stdout",
     "output_type": "stream",
     "text": [
      "KQ: hello 🙂\n"
     ]
    }
   ],
   "source": [
    "def convert(s):\n",
    "    a = s.replace(\":)\",\"🙂\")\n",
    "    b = a.replace(\":(\",\"🙁\")\n",
    "    return b \n",
    "def main():\n",
    "    s = input(\"Nhập dữ liệu: \")\n",
    "    b = convert(s)\n",
    "    print(f\"KQ: {b}\")\n",
    "main()\n",
    "\n"
   ]
  },
  {
   "cell_type": "markdown",
   "metadata": {},
   "source": [
    "## **Câu 4: Einstein** ##\n",
    "- Ngay cả khi bạn chưa học vật lý (gần đây hoặc đã từng!), bạn có thể đã nghe nói rằng **E=mc^2**, trong đó **E** đại diện cho năng lượng (được đo bằng Joules), **m** đại diện cho khối lượng (tính bằng kilôgam) và **c** đại diện cho tốc độ ánh sáng (được đo khoảng 300000000 mét mỗi giây), theo Albert Einstein và cộng sự.\n",
    "- Hãy triển khai một chương trình bằng Python nhắc người dùng về khối lượng dưới dạng số nguyên (tính bằng kilôgam) và sau đó xuất ra số Joule tương đương dưới dạng số nguyên."
   ]
  },
  {
   "cell_type": "code",
   "execution_count": 15,
   "metadata": {},
   "outputs": [
    {
     "name": "stdout",
     "output_type": "stream",
     "text": [
      "36\n"
     ]
    }
   ],
   "source": [
    "def cal(m,c):\n",
    "    E = int(pow(m*c,2))\n",
    "    return E\n",
    "def main():\n",
    "    m = int(input(\"Nhập m: \"))\n",
    "    c = int(input(\"Nhập c: \"))\n",
    "    result = cal(m,c)\n",
    "    print(result)\n",
    "main()"
   ]
  },
  {
   "cell_type": "markdown",
   "metadata": {},
   "source": [
    "## **Câu 5: Tip Calculator** ##\n",
    "- Hãy triển khai hai chức năng:\n",
    "    - **dollars_to_float**, phải chấp nhận một str làm đầu vào `được định dạng là $##.##, trong đó mỗi chữ số # là một chữ số thập phân`, xóa số đứng đầu $ và trả về số tiền dưới dạng **float**. Chẳng hạn, được đưa ra $50.00 làm đầu vào, nó sẽ trả về 50.0.\n",
    "    - **percent_to_float**, phải chấp nhận một str làm đầu vào (được định dạng là ##%, trong đó mỗi # là một chữ số thập phân), xóa dấu % và trả về phần trăm dưới dạng float. Chẳng hạn, được đưa ra 15% làm đầu vào, nó sẽ trả về 0.15.\n"
   ]
  },
  {
   "cell_type": "code",
   "execution_count": 17,
   "metadata": {},
   "outputs": [
    {
     "name": "stdout",
     "output_type": "stream",
     "text": [
      "Leave $40.00\n"
     ]
    }
   ],
   "source": [
    "def main():\n",
    " dollars = dollars_to_float(input(\"How much was the meal? \"))\n",
    " percent = percent_to_float(input(\"What percentage would you like to tip? \"))\n",
    " tip = dollars * percent\n",
    " print(f\"Leave ${tip:.2f}\")\n",
    "\n",
    "def dollars_to_float(d):\n",
    "    #Loại bỏ ký tự \"$\"\n",
    "    a = float(d.replace('$',''))\n",
    "    return a\n",
    " \n",
    "def percent_to_float(p):\n",
    "    #Loại bỏ ký tự \"%\"\n",
    "    b = float(p.replace('%',''))/100\n",
    "    return b\n",
    "main()"
   ]
  }
 ],
 "metadata": {
  "kernelspec": {
   "display_name": "Python 3",
   "language": "python",
   "name": "python3"
  },
  "language_info": {
   "codemirror_mode": {
    "name": "ipython",
    "version": 3
   },
   "file_extension": ".py",
   "mimetype": "text/x-python",
   "name": "python",
   "nbconvert_exporter": "python",
   "pygments_lexer": "ipython3",
   "version": "3.11.4"
  },
  "orig_nbformat": 4
 },
 "nbformat": 4,
 "nbformat_minor": 2
}
